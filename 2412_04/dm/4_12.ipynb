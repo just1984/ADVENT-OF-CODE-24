{
 "cells": [
  {
   "cell_type": "code",
   "execution_count": 3,
   "metadata": {},
   "outputs": [],
   "source": [
    "content = open('4_12.csv').readlines()\n"
   ]
  },
  {
   "cell_type": "code",
   "execution_count": null,
   "metadata": {},
   "outputs": [
    {
     "name": "stdout",
     "output_type": "stream",
     "text": [
      "Part 1 result:2560\n"
     ]
    }
   ],
   "source": [
    "#Starting with X as starting point and all directions. Excluding 3 rows and columns on sides\n",
    "count = 0\n",
    "for index in range(len(content)):\n",
    "    for i in range(len(content[index])):\n",
    "        if content[index][i] == 'X':\n",
    "            #horizontal:\n",
    "            if content[index][i+1:i+4] =='MAS':\n",
    "                count+=1\n",
    "            #horizontal reverse:\n",
    "            if (content[index][i-3:i]) =='SAM':\n",
    "                count+=1\n",
    "\n",
    "            if index<137:\n",
    "                #vertical:\n",
    "                if content[index+1][i]+content[index+2][i]+content[index+3][i] == 'MAS':\n",
    "                    count+=1\n",
    "                #diagonal(left to right):\n",
    "                if i <137:\n",
    "                    if content[index+1][i+1]+content[index+2][i+2]+content[index+3][i+3] == 'MAS':\n",
    "                        count+=1\n",
    "                #diagonal(right to left)\n",
    "                if i >2:\n",
    "                    if content[index+1][i-1]+content[index+2][i-2]+content[index+3][i-3] =='MAS':\n",
    "                        count+=1\n",
    "\n",
    "            if index>2:\n",
    "                #vertical reverse:\n",
    "                if content[index-3][i]+content[index-2][i]+content[index-1][i] =='SAM':\n",
    "                    count+=1\n",
    "                #diagonal reverse(left to right):\n",
    "                if i <137:\n",
    "                    if content[index-3][i+3]+content[index-2][i+2]+content[index-1][i+1] =='SAM':\n",
    "                        count+=1\n",
    "                #diagonal reverse(right to left)\n",
    "                if i >2:\n",
    "                    if content[index-3][i-3]+content[index-2][i-2]+content[index-1][i-1] == 'SAM':\n",
    "                        count+=1\n",
    "print(f'Part 1 result:{count}')"
   ]
  },
  {
   "cell_type": "markdown",
   "metadata": {},
   "source": [
    "**Part 2**"
   ]
  },
  {
   "cell_type": "code",
   "execution_count": 4,
   "metadata": {},
   "outputs": [
    {
     "name": "stdout",
     "output_type": "stream",
     "text": [
      "Part 2 result:1910\n"
     ]
    }
   ],
   "source": [
    "#Starting with A in the middle and checking diagonals for all combinations. Excluding first&last rows and columns\n",
    "\n",
    "second_count = 0\n",
    "for index in range(len(content)):\n",
    "    for i in range(len(content[index])):\n",
    "        if content[index][i] == 'A':\n",
    "\n",
    "            if index<139 and index>0:\n",
    "                if i <139 and i>0:\n",
    "                    if content[index-1][i-1]+content[index+1][i-1]+content[index-1][i+1]+content[index+1][i+1] == 'MMSS':\n",
    "                        second_count+=1\n",
    "                    if content[index-1][i-1]+content[index+1][i-1]+content[index-1][i+1]+content[index+1][i+1] == 'MSMS':\n",
    "                        second_count+=1\n",
    "                    if content[index-1][i-1]+content[index+1][i-1]+content[index-1][i+1]+content[index+1][i+1] == 'SSMM':\n",
    "                        second_count+=1\n",
    "                    if content[index-1][i-1]+content[index+1][i-1]+content[index-1][i+1]+content[index+1][i+1] == 'SMSM':\n",
    "                        second_count+=1\n",
    "print(f'Part 2 result:{second_count}')"
   ]
  }
 ],
 "metadata": {
  "kernelspec": {
   "display_name": "lewagon",
   "language": "python",
   "name": "python3"
  },
  "language_info": {
   "codemirror_mode": {
    "name": "ipython",
    "version": 3
   },
   "file_extension": ".py",
   "mimetype": "text/x-python",
   "name": "python",
   "nbconvert_exporter": "python",
   "pygments_lexer": "ipython3",
   "version": "3.10.6"
  }
 },
 "nbformat": 4,
 "nbformat_minor": 2
}
