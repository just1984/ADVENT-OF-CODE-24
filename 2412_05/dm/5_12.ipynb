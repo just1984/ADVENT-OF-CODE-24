{
 "cells": [
  {
   "cell_type": "code",
   "execution_count": 17,
   "metadata": {},
   "outputs": [],
   "source": [
    "import random"
   ]
  },
  {
   "cell_type": "code",
   "execution_count": 3,
   "metadata": {},
   "outputs": [],
   "source": [
    "content = open('5_12.csv').readlines()"
   ]
  },
  {
   "cell_type": "code",
   "execution_count": 4,
   "metadata": {},
   "outputs": [],
   "source": [
    "rules =[]\n",
    "manuals = []\n",
    "for i in range(len(content)):\n",
    "    if i <1176:\n",
    "        b = content[i][:-1].split(sep='|')\n",
    "        b = list(map(int,b))\n",
    "        rules.append(b)\n",
    "\n",
    "    if i >1176:\n",
    "        a = content[i][:-1].split(sep=',')\n",
    "        a = list(map(int,a))\n",
    "        manuals.append(a)"
   ]
  },
  {
   "cell_type": "code",
   "execution_count": 5,
   "metadata": {},
   "outputs": [],
   "source": [
    "done=[]\n",
    "incorrect =[]\n",
    "for manual in manuals:\n",
    "    status = 0\n",
    "    for i in range(len(manual)):\n",
    "\n",
    "        higher = []\n",
    "        lower = []\n",
    "        for rule in rules:\n",
    "            if rule[0]==manual[i]:\n",
    "                higher.append(rule[1])\n",
    "            if rule[1]==manual[i]:\n",
    "                lower.append(rule[0])\n",
    "\n",
    "        if all(k not in lower for k in manual[i+1:]) and all(k not in higher for k in manual[:i] ):\n",
    "         status+=1\n",
    "    if status == len(manual):\n",
    "        done.append(manual)\n",
    "    else:\n",
    "        incorrect.append(manual)"
   ]
  },
  {
   "cell_type": "code",
   "execution_count": 6,
   "metadata": {},
   "outputs": [
    {
     "name": "stdout",
     "output_type": "stream",
     "text": [
      "The answer for Part 1 is 7307\n"
     ]
    }
   ],
   "source": [
    "total=0\n",
    "for line in done:\n",
    "    index = int(len(line)/2)\n",
    "    to_add = line[index]\n",
    "    total+=to_add\n",
    "print(f'The answer for Part 1 is {total}')"
   ]
  }
 ],
 "metadata": {
  "kernelspec": {
   "display_name": "lewagon",
   "language": "python",
   "name": "python3"
  },
  "language_info": {
   "codemirror_mode": {
    "name": "ipython",
    "version": 3
   },
   "file_extension": ".py",
   "mimetype": "text/x-python",
   "name": "python",
   "nbconvert_exporter": "python",
   "pygments_lexer": "ipython3",
   "version": "3.10.6"
  }
 },
 "nbformat": 4,
 "nbformat_minor": 2
}
