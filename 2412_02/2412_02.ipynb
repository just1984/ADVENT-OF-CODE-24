{
 "cells": [
  {
   "cell_type": "code",
   "execution_count": 4,
   "id": "57c8825f-492c-40a4-9935-2ee1b1810ddc",
   "metadata": {},
   "outputs": [
    {
     "name": "stdout",
     "output_type": "stream",
     "text": [
      "Anzahl: 383\n"
     ]
    }
   ],
   "source": [
    "with open('input.txt', 'r') as file:\n",
    "    reports = [list(map(int, line.split())) for line in file]\n",
    "\n",
    "def is_safe(report):\n",
    "    diffs = [report[i + 1] - report[i] for i in range(len(report) - 1)]\n",
    "    return all(1 <= abs(d) <= 3 for d in diffs) and (all(d > 0 for d in diffs) or all(d < 0 for d in diffs))\n",
    "\n",
    "safe_count = sum(is_safe(report) for report in reports)\n",
    "\n",
    "print(f\"Anzahl: {safe_count}\")"
   ]
  },
  {
   "cell_type": "code",
   "execution_count": 7,
   "id": "4e91d68c-3127-4c7d-84dc-8db0eb9fb81b",
   "metadata": {},
   "outputs": [
    {
     "name": "stdout",
     "output_type": "stream",
     "text": [
      "Anzahl: 436\n"
     ]
    }
   ],
   "source": [
    "with open('input.txt', 'r') as file:\n",
    "    reports = [list(map(int, line.split())) for line in file]\n",
    "\n",
    "def is_safe(report):\n",
    "    diffs = [report[i + 1] - report[i] for i in range(len(report) - 1)]\n",
    "    return all(1 <= abs(d) <= 3 for d in diffs) and (all(d > 0 for d in diffs) or all(d < 0 for d in diffs))\n",
    "\n",
    "def is_safe_with_dampener(report):\n",
    "    if is_safe(report):\n",
    "        return True\n",
    "    \n",
    "    for i in range(len(report)):\n",
    "        modified_report = report[:i] + report[i+1:]\n",
    "        if is_safe(modified_report):\n",
    "            return True\n",
    "    return False\n",
    "\n",
    "safe_count_with_dampener = sum(is_safe_with_dampener(report) for report in reports)\n",
    "\n",
    "print(f\"Anzahl: {safe_count_with_dampener}\")"
   ]
  },
  {
   "cell_type": "code",
   "execution_count": null,
   "id": "1e512ec9-f63e-47fb-abd1-ec16fe3e8431",
   "metadata": {},
   "outputs": [],
   "source": []
  }
 ],
 "metadata": {
  "kernelspec": {
   "display_name": "Python 3 (ipykernel)",
   "language": "python",
   "name": "python3"
  },
  "language_info": {
   "codemirror_mode": {
    "name": "ipython",
    "version": 3
   },
   "file_extension": ".py",
   "mimetype": "text/x-python",
   "name": "python",
   "nbconvert_exporter": "python",
   "pygments_lexer": "ipython3",
   "version": "3.10.6"
  }
 },
 "nbformat": 4,
 "nbformat_minor": 5
}
