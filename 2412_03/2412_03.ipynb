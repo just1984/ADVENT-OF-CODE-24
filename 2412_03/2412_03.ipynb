{
 "cells": [
  {
   "cell_type": "code",
   "execution_count": 9,
   "id": "42764a5c-79c3-4ee3-bcad-50df6105d007",
   "metadata": {},
   "outputs": [
    {
     "name": "stdout",
     "output_type": "stream",
     "text": [
      "189600467\n"
     ]
    }
   ],
   "source": [
    "import re\n",
    "\n",
    "file_path = \"input.txt\"\n",
    "\n",
    "def calculate_mul_sum(file_path):\n",
    "    with open(file_path, 'r') as file:\n",
    "        data = file.read()\n",
    "\n",
    "    pattern = r\"mul\\(\\d+,\\d+\\)\"\n",
    "    matches = re.findall(pattern, data)\n",
    "\n",
    "    results = []\n",
    "    for match in matches:\n",
    "        nums = re.findall(r\"\\d+\", match)\n",
    "        if len(nums) == 2:\n",
    "            x, y = map(int, nums)\n",
    "            results.append(x * y)\n",
    "\n",
    "    return sum(results)\n",
    "\n",
    "result = calculate_mul_sum(file_path)\n",
    "print(f\"{result}\")\n"
   ]
  },
  {
   "cell_type": "code",
   "execution_count": 11,
   "id": "cf28be79-2d1f-4fee-a20a-0857d36bfd69",
   "metadata": {},
   "outputs": [
    {
     "name": "stdout",
     "output_type": "stream",
     "text": [
      "107069718\n"
     ]
    }
   ],
   "source": [
    "def calculate_conditional_mul_sum(file_path):\n",
    "    with open(file_path, 'r') as file:\n",
    "        data = file.read()\n",
    "\n",
    "    instructions = re.findall(r\"do\\(\\)|don't\\(\\)|mul\\(\\d+,\\d+\\)\", data)\n",
    "    \n",
    "    mul_enabled = True\n",
    "    results = []\n",
    "\n",
    "    for instruction in instructions:\n",
    "        if instruction == \"do()\":\n",
    "            mul_enabled = True\n",
    "        elif instruction == \"don't()\":\n",
    "            mul_enabled = False\n",
    "        elif \"mul\" in instruction and mul_enabled:\n",
    "            nums = re.findall(r\"\\d+\", instruction)\n",
    "            if len(nums) == 2:\n",
    "                x, y = map(int, nums)\n",
    "                results.append(x * y)\n",
    "\n",
    "    return sum(results)\n",
    "\n",
    "result = calculate_conditional_mul_sum(file_path)\n",
    "print(f\"{result}\")"
   ]
  },
  {
   "cell_type": "code",
   "execution_count": null,
   "id": "81b9ddff-1a74-481d-9de7-8e510795cdf5",
   "metadata": {},
   "outputs": [],
   "source": []
  }
 ],
 "metadata": {
  "kernelspec": {
   "display_name": "Python 3 (ipykernel)",
   "language": "python",
   "name": "python3"
  },
  "language_info": {
   "codemirror_mode": {
    "name": "ipython",
    "version": 3
   },
   "file_extension": ".py",
   "mimetype": "text/x-python",
   "name": "python",
   "nbconvert_exporter": "python",
   "pygments_lexer": "ipython3",
   "version": "3.10.6"
  }
 },
 "nbformat": 4,
 "nbformat_minor": 5
}
